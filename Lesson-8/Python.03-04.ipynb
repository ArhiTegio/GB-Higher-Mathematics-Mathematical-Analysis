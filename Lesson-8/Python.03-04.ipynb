{
 "cells": [
  {
   "cell_type": "code",
   "execution_count": 8,
   "metadata": {},
   "outputs": [],
   "source": [
    "import numpy as np\n",
    "from scipy.optimize import fsolve, broyden1\n",
    "import math"
   ]
  },
  {
   "cell_type": "code",
   "execution_count": 23,
   "metadata": {},
   "outputs": [
    {
     "name": "stdout",
     "output_type": "stream",
     "text": [
      "(1.273302, 1.6620391)\n",
      "(2.4943565, 0.7083175)\n",
      "(2.2177536, 0.6101939)\n",
      "(1.3756871, -0.1747579)\n",
      "(-3.6530799, -0.2747634)\n"
     ]
    },
    {
     "name": "stderr",
     "output_type": "stream",
     "text": [
      "<>:12: SyntaxWarning: \"is\" with a literal. Did you mean \"==\"?\n",
      "<>:12: SyntaxWarning: \"is\" with a literal. Did you mean \"==\"?\n",
      "<ipython-input-23-1fd8a101bfa6>:12: SyntaxWarning: \"is\" with a literal. Did you mean \"==\"?\n",
      "  if(ier is 1):\n"
     ]
    }
   ],
   "source": [
    "\n",
    "\n",
    "def equations(p):\n",
    "    x, y = p\n",
    "    # Запись системы уравнения вида x+y=2, x-y=0\n",
    "    return ((x**2) - (y**2) + 3*x*(y**3) - 2*(x**2)*(y**2) + 2*x - 3*y - 5,\n",
    "            3*(y**3) - 2*(x**2) + 2*(x**3)*y - 5*(x**2)*(y**2) + 5)\n",
    "\n",
    "# Численное решение системы уравнений\n",
    "solv = set()\n",
    "for x in np.arange (-10, 10, 2):\n",
    "    for y in np.arange (-10, 10, 2):\n",
    "        p, info, ier, mesg =  fsolve(equations, (x, y), full_output=True)\n",
    "        if(ier is 1):\n",
    "            x_ = np.int(p[0]*10**7)/10**7\n",
    "            y_ = np.int(p[1]*10**7)/10**7\n",
    "            n = (x_, y_)\n",
    "            solv.add(n)\n",
    "            \n",
    "for p in solv:\n",
    "    print(p)"
   ]
  },
  {
   "cell_type": "code",
   "execution_count": null,
   "metadata": {},
   "outputs": [],
   "source": []
  }
 ],
 "metadata": {
  "kernelspec": {
   "display_name": "Python 3",
   "language": "python",
   "name": "python3"
  },
  "language_info": {
   "codemirror_mode": {
    "name": "ipython",
    "version": 3
   },
   "file_extension": ".py",
   "mimetype": "text/x-python",
   "name": "python",
   "nbconvert_exporter": "python",
   "pygments_lexer": "ipython3",
   "version": "3.8.3"
  }
 },
 "nbformat": 4,
 "nbformat_minor": 4
}
